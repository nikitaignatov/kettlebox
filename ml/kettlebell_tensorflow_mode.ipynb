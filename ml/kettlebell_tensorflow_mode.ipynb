{
 "cells": [
  {
   "cell_type": "code",
   "execution_count": 15,
   "metadata": {},
   "outputs": [],
   "source": [
    "#!pip install mlxtend\n",
    "%matplotlib inline"
   ]
  },
  {
   "cell_type": "markdown",
   "metadata": {},
   "source": [
    "## Import all the relevant libraries"
   ]
  },
  {
   "cell_type": "code",
   "execution_count": 17,
   "metadata": {},
   "outputs": [],
   "source": [
    "import pandas as pd\n",
    "import numpy as np\n",
    "import pickle\n",
    "import math\n",
    "import matplotlib.pyplot as plt\n",
    "from mpl_toolkits.mplot3d import Axes3D\n",
    "from scipy import stats\n",
    "import seaborn as sns\n",
    "from pylab import rcParams\n",
    "from sklearn import metrics\n",
    "from sklearn.model_selection import train_test_split\n",
    "\n",
    "# tensorflow\n",
    "from tensorflow.keras import Sequential\n",
    "\n",
    "from tensorflow.keras.models import Sequential\n",
    "from tensorflow.keras.layers import Dense, Dropout, Activation, Flatten\n",
    "from tensorflow.keras.layers import Conv2D, MaxPooling2D,InputLayer,MaxPool2D\n",
    "from sklearn.preprocessing import LabelEncoder, StandardScaler\n",
    "from tensorflow import keras\n",
    "from tensorflow.keras import layers\n",
    "from tensorflow.keras.optimizers import Adam\n",
    "\n",
    "# confusion matrix\n",
    "from mlxtend.plotting import plot_confusion_matrix\n",
    "from sklearn.metrics import confusion_matrix"
   ]
  },
  {
   "cell_type": "markdown",
   "metadata": {},
   "source": [
    "# Helper functions"
   ]
  },
  {
   "cell_type": "code",
   "execution_count": 19,
   "metadata": {},
   "outputs": [],
   "source": [
    "def magnitude(df):\n",
    "    ax2 = df['Ax']**2\n",
    "    ay2 = df['Ay']**2\n",
    "    az2 = df['Az']**2\n",
    "    am2 = ax2 + ay2 + az2\n",
    "    \n",
    "    gx2 = df['Gx']**2\n",
    "    gy2 = df['Gy']**2\n",
    "    gz2 = df['Gz']**2\n",
    "    gm2 = gx2 + gy2 + gz2\n",
    "    \n",
    "    \n",
    "    df['Am']=am2.apply(lambda x: math.sqrt(x)/4) \n",
    "    df['Gm']=gm2.apply(lambda x: math.sqrt(x)/500)\n",
    "    \n",
    "     #df['Pitch']=         math.atan2(df['Ay'][index],df['Az'][index])\n",
    "      #   math.atan2(-df['Ax'][index], math.sqrt(df['Ay'][index]**2 +(df['Az'][index] **2)))"
   ]
  },
  {
   "cell_type": "markdown",
   "metadata": {},
   "source": [
    "## collect\n",
    "loads the data from the sample data files"
   ]
  },
  {
   "cell_type": "code",
   "execution_count": 20,
   "metadata": {},
   "outputs": [],
   "source": [
    "def collect(i):\n",
    "    x=pd.read_csv('kettlebell/'+str(i)+'.log',sep= \"\\t\")\n",
    "    return x.rename(columns={'ARoll':'Roll'})"
   ]
  },
  {
   "cell_type": "markdown",
   "metadata": {},
   "source": [
    "## label_activity \n",
    "sets the label column for the dataset"
   ]
  },
  {
   "cell_type": "code",
   "execution_count": 21,
   "metadata": {},
   "outputs": [],
   "source": [
    "def label_activity(df,label):\n",
    "    df['Activity'] = label"
   ]
  },
  {
   "cell_type": "markdown",
   "metadata": {},
   "source": [
    "## acc_scalar\n",
    "normalize magnitude for the accelerometer and gyro values "
   ]
  },
  {
   "cell_type": "code",
   "execution_count": 22,
   "metadata": {},
   "outputs": [],
   "source": [
    "def acc_scalar(df):\n",
    "    df['Axs'] = (df['Ax'].apply(lambda x:math.sqrt(x**2)/4))\n",
    "    df['Ays'] = (df['Ay'].apply(lambda x:math.sqrt(x**2)/4))\n",
    "    df['Azs'] = (df['Az'].apply(lambda x:math.sqrt(x**2)/4))\n",
    "    df['Gxs'] = (df['Gx'].apply(lambda x:(x+500.0)/1000.0))\n",
    "    df['Gys'] = (df['Gy'].apply(lambda x:(x+500.0)/1000.0))\n",
    "    df['Gzs'] = (df['Gz'].apply(lambda x:(x+500.0)/1000.0))"
   ]
  },
  {
   "cell_type": "markdown",
   "metadata": {},
   "source": [
    "## frequency\n",
    "based on the timestamp calculate the sampling frequency"
   ]
  },
  {
   "cell_type": "code",
   "execution_count": 18,
   "metadata": {},
   "outputs": [],
   "source": [
    "def frequency(df):\n",
    "    df['Time_Delta_ms'] = (df['Time']-df['Time'].shift()).fillna(1000).astype(int)\n",
    "    df['Hz'] = (1000/df['Time_Delta_ms']).astype(int)"
   ]
  },
  {
   "cell_type": "markdown",
   "metadata": {},
   "source": [
    "# Import sample data"
   ]
  },
  {
   "cell_type": "code",
   "execution_count": 23,
   "metadata": {},
   "outputs": [
    {
     "data": {
      "text/plain": [
       "<matplotlib.axes._subplots.AxesSubplot at 0x2667c932430>"
      ]
     },
     "execution_count": 23,
     "metadata": {},
     "output_type": "execute_result"
    },
    {
     "data": {
      "image/png": "[encoded data removed]",
      "text/plain": [
       "<Figure size 720x288 with 1 Axes>"
      ]
     },
     "metadata": {
      "needs_background": "light"
     },
     "output_type": "display_data"
    }
   ],
   "source": [
    "# import from files\n",
    "df_row_left = pd.DataFrame().append([collect('row-left-1'),collect('row-left-2'),collect('row-left-3')],ignore_index=True)\n",
    "df_row_right = pd.DataFrame().append([collect('row-right-1'),collect('row-right-2')],ignore_index=True)\n",
    "df_clean = pd.DataFrame().append([collect('clean-1'),collect('clean-2')],ignore_index=True)\n",
    "df_rest=collect('rest-1')\n",
    "df_swing_both_hands = pd.DataFrame().append([collect('swing-both-hands-1'),collect('swing-both-hands-2'),collect('swing-both-hands-3')],ignore_index=True)\n",
    "df_deadlift_both_hands=pd.DataFrame().append([collect('deadlift-both-hands-1'),collect('deadlift-both-hands-2')],ignore_index=True)\n",
    "df_goblet_squat=pd.DataFrame().append([collect('goblet-squat-1'),collect('goblet-squat-2')],ignore_index=True)\n",
    "\n",
    "# label individual activies\n",
    "label_activity(df_row_right,\"Row Right\")\n",
    "label_activity(df_row_left,\"Row Left\")\n",
    "label_activity(df_rest,\"Rest\")\n",
    "label_activity(df_swing_both_hands,\"Swing Both Hands\")\n",
    "label_activity(df_deadlift_both_hands,\"Deadlift Both Hands\")\n",
    "label_activity(df_goblet_squat,\"Goblet Squat\")\n",
    "label_activity(df_clean,\"Clean\")\n",
    "\n",
    "# new frame with with all the activities\n",
    "df = pd.DataFrame()\n",
    "df=df.append([df_row_right,df_row_left,df_rest,df_swing_both_hands,df_deadlift_both_hands,df_goblet_squat,df_clean])\n",
    "\n",
    "# plot the datapoints pr activity\n",
    "df['Activity'].value_counts().plot(kind='bar', title='Plotting records by activity type', figsize=(10, 4),align='center')"
   ]
  },
  {
   "cell_type": "code",
   "execution_count": null,
   "metadata": {},
   "outputs": [],
   "source": []
  },
  {
   "cell_type": "code",
   "execution_count": null,
   "metadata": {},
   "outputs": [],
   "source": []
  },
  {
   "cell_type": "code",
   "execution_count": null,
   "metadata": {},
   "outputs": [],
   "source": []
  }
 ],
 "metadata": {
  "kernelspec": {
   "display_name": "Python 3",
   "language": "python",
   "name": "python3"
  },
  "language_info": {
   "codemirror_mode": {
    "name": "ipython",
    "version": 3
   },
   "file_extension": ".py",
   "mimetype": "text/x-python",
   "name": "python",
   "nbconvert_exporter": "python",
   "pygments_lexer": "ipython3",
   "version": "3.8.3"
  }
 },
 "nbformat": 4,
 "nbformat_minor": 4
}
